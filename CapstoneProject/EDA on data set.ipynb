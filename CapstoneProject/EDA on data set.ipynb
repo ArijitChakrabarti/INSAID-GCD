{
 "cells": [
  {
   "cell_type": "markdown",
   "metadata": {},
   "source": [
    "## Project Goals\n",
    "\n",
    "Your client for this project is the HR Department at a software company.\n",
    "\n",
    "    They want to try a new initiative to retain employees.\n",
    "    The idea is to use data to predict whether an employee is likely to leave.\n",
    "    Once these employees are identified, HR can be more proactive in reaching out to them before it's too late.\n",
    "    They only want to deal with the data that is related to permanent employees.\n",
    "\n",
    "Current Practice\n",
    "Once an employee leaves, he or she is taken an interview with the name “exit interview” and shares reasons for leaving. The HR Department then tries and learns insights from the interview and makes changes accordingly.\n",
    "\n",
    "This suffers from the following problems:\n",
    "\n",
    "    This approach is that it's too haphazard. The quality of insight gained from an interview depends heavily on the skill of the interviewer.\n",
    "    The second problem is these insights can't be aggregated and interlaced across all employees who have left.\n",
    "    The third is that it is too late by the time the proposed policy changes take effect.\n",
    "\n",
    "\n",
    "The HR department has hired you as data science consultants. They want to supplement their exit interviews with a more proactive approach.\n",
    "\n",
    "\n",
    "### Your Role\n",
    "\n",
    "    You are given datasets of past employees and their status (still employed or already left).\n",
    "    Your task is to build a classification model using the datasets.\n",
    "    Because there was no machine learning model for this problem in the company, you don’t have quantifiable win condition. You need to build the best possible model.\n",
    "\n",
    "\n",
    "#### Problem Specifics\n",
    "    Deliverable: Predict whether an employee will stay or leave.\n",
    "    Machine learning task: Classification\n",
    "    Target variable: Status (Employed/Left)\n",
    "    Win condition: N/A (best possible model)"
   ]
  },
  {
   "cell_type": "markdown",
   "metadata": {},
   "source": [
    "### Data Description\n",
    "\n",
    "The Business Intelligence Analysts of the Company provided you three datasets that contain information about past employees and their status (still employed or already left).\n",
    "\n",
    "    department_data\n",
    "\n",
    "    This dataset contains information about each department. The schema of the dataset is as follows:\n",
    "        dept_id – Unique Department Code\n",
    "        dept_name – Name of the Department\n",
    "        dept_head – Name of the Head of the Department\n",
    "\n",
    "    employee_details_data\n",
    "\n",
    "    This dataset consists of Employee ID, their Age, Gender and Marital Status. The schema of this dataset is as follows:\n",
    "        employee_id – Unique ID Number for each employee\n",
    "        age – Age of the employee\n",
    "        gender – Gender of the employee\n",
    "        marital_status – Marital Status of the employee\n",
    "\n",
    "    employee_data\n",
    "\n",
    "    This dataset consists of each employee’s Administrative Information, Workload Information, Mutual Evaluation Information and Status.\n",
    "\n",
    "    Target variable\n",
    "        status – Current employment status (Employed / Left)\n",
    "\n",
    "    Administrative information\n",
    "        department – Department to which the employees belong(ed) to\n",
    "        salary – Salary level with respect to rest of their department\n",
    "        tenure – Number of years at the company\n",
    "        recently_promoted – Was the employee promoted in the last 3 years?\n",
    "        employee_id – Unique ID Number for each employee\n",
    "\n",
    "    Workload information\n",
    "        n_projects – Number of projects employee has worked on\n",
    "        avg_monthly_hrs – Average number of hours worked per month\n",
    "\n",
    "    Mutual evaluation information\n",
    "        satisfaction – Score for employee’s satisfaction with the company (higher is better)\n",
    "        last_evaluation – Score for most recent evaluation of employee (higher is better)\n",
    "        filed_complaint – Has the employee filed a formal complaint in the last 3 years?\n"
   ]
  },
  {
   "cell_type": "markdown",
   "metadata": {},
   "source": [
    "#### Data Source\n",
    "Download the DataSets onto Python by connecting to the below provided MySQL instance.\n",
    "                      \n",
    "host \t'projects.insaid.co'\n",
    "user \t'student'\n",
    "passwd \t'student'\n",
    "database \t'Capstone2'"
   ]
  },
  {
   "cell_type": "code",
   "execution_count": 37,
   "metadata": {},
   "outputs": [],
   "source": [
    "# Database \n",
    "import mysql.connector\n",
    "from mysql.connector import Error\n",
    "\n",
    "# ML\n",
    "import pandas as pd\n",
    "import numpy as np"
   ]
  },
  {
   "cell_type": "code",
   "execution_count": 38,
   "metadata": {},
   "outputs": [],
   "source": [
    "tables = ['department_data', 'employee_details_data', 'employee_data']"
   ]
  },
  {
   "cell_type": "code",
   "execution_count": 39,
   "metadata": {},
   "outputs": [
    {
     "name": "stdout",
     "output_type": "stream",
     "text": [
      "Connected to MySQL database... MySQL Server version on  5.7.25-0ubuntu0.18.04.2\n",
      "Your connected to -  ('Capstone2',)\n",
      "  dept_id dept_name        dept_head\n",
      "0  D00-IT        IT       Henry Adey\n",
      "1  D00-SS     Sales  Edward J Bayley\n",
      "2  D00-TP      Temp  Micheal Zachrey\n",
      "   employee_id  age  gender marital_status\n",
      "0       113558   43    Male        Married\n",
      "1       112256   24  Female      Unmarried\n",
      "2       112586   22  Female      Unmarried\n",
      "   avg_monthly_hrs department  filed_complaint  last_evaluation  n_projects  \\\n",
      "0            246.0       None              NaN         0.866838           6   \n",
      "1            134.0       None              NaN         0.555718           2   \n",
      "2            156.0     D00-SS              1.0         0.474082           2   \n",
      "\n",
      "   recently_promoted  salary  satisfaction status  tenure  employee_id  \n",
      "0                NaN  medium      0.134415   Left     4.0       124467  \n",
      "1                NaN     low      0.511041   Left     3.0       112210  \n",
      "2                NaN  medium      0.405101   Left     3.0       126150  \n",
      "MySQL connection is closed\n"
     ]
    }
   ],
   "source": [
    "try:\n",
    "    mySQLconnection = mysql.connector.connect(host='projects.insaid.co',\n",
    "                             database='Capstone2',\n",
    "                             user='student',\n",
    "                             password='student')\n",
    "    \n",
    "    if mySQLconnection.is_connected():\n",
    "        db_Info = mySQLconnection.get_server_info()\n",
    "        print(\"Connected to MySQL database... MySQL Server version on \",db_Info)\n",
    "        cursor = mySQLconnection.cursor()\n",
    "        cursor.execute(\"select database();\")\n",
    "        database = cursor.fetchone()\n",
    "        print (\"Your connected to - \", database)\n",
    "        # for table in tables:\n",
    "            # cursor.execute(sql_select_Query)\n",
    "            # records = cursor.fetchall()\n",
    "            # print (records)\n",
    "        sql_select_Query = \"select * from department_data\"\n",
    "        SQL_Query = pd.read_sql_query(sql_select_Query, mySQLconnection)\n",
    "        df_departmentData = pd.DataFrame(SQL_Query)\n",
    "        print(df_departmentData.head(3))\n",
    "        \n",
    "        sql_select_Query = \"select * from employee_details_data\"\n",
    "        SQL_Query = pd.read_sql_query(sql_select_Query, mySQLconnection)\n",
    "        df_employeeDetailsData = pd.DataFrame(SQL_Query)\n",
    "        print(df_employeeDetailsData.head(3))\n",
    "\n",
    "        sql_select_Query = \"select * from employee_data\"\n",
    "        SQL_Query = pd.read_sql_query(sql_select_Query, mySQLconnection)\n",
    "        df_employeeData = pd.DataFrame(SQL_Query)\n",
    "        print(df_employeeData.head(3))\n",
    "except Error as e :\n",
    "    print (\"Error while connecting to MySQL\", e)\n",
    "finally:\n",
    "    #closing database connection.\n",
    "    if(mySQLconnection .is_connected()):\n",
    "        mySQLconnection.close()\n",
    "        print(\"MySQL connection is closed\")"
   ]
  },
  {
   "cell_type": "code",
   "execution_count": 40,
   "metadata": {},
   "outputs": [
    {
     "name": "stdout",
     "output_type": "stream",
     "text": [
      "(11, 3)\n",
      "(14245, 4)\n",
      "(14150, 11)\n"
     ]
    }
   ],
   "source": [
    "print (df_departmentData.shape)\n",
    "print (df_employeeDetailsData.shape)\n",
    "print (df_employeeData.shape)"
   ]
  },
  {
   "cell_type": "code",
   "execution_count": 41,
   "metadata": {},
   "outputs": [],
   "source": [
    "df_empData = pd.merge(df_employeeData, df_employeeDetailsData, on=\"employee_id\")"
   ]
  },
  {
   "cell_type": "code",
   "execution_count": 42,
   "metadata": {},
   "outputs": [
    {
     "name": "stdout",
     "output_type": "stream",
     "text": [
      "   avg_monthly_hrs department  filed_complaint  last_evaluation  n_projects  \\\n",
      "0            246.0       None              NaN         0.866838           6   \n",
      "1            134.0       None              NaN         0.555718           2   \n",
      "2            156.0     D00-SS              1.0         0.474082           2   \n",
      "3            256.0     D00-SP              NaN         0.961360           6   \n",
      "4            146.0     D00-SS              NaN         0.507349           2   \n",
      "\n",
      "   recently_promoted  salary  satisfaction status  tenure  employee_id  age  \\\n",
      "0                NaN  medium      0.134415   Left     4.0       124467   42   \n",
      "1                NaN     low      0.511041   Left     3.0       112210   23   \n",
      "2                NaN  medium      0.405101   Left     3.0       126150   24   \n",
      "3                NaN     low      0.152974   Left     4.0       125346   51   \n",
      "4                NaN  medium      0.434845   Left     3.0       113707   23   \n",
      "\n",
      "   gender marital_status  \n",
      "0  Female        Married  \n",
      "1  Female      Unmarried  \n",
      "2  Female      Unmarried  \n",
      "3  Female        Married  \n",
      "4  Female      Unmarried  \n"
     ]
    }
   ],
   "source": [
    "print (df_empData.head())"
   ]
  },
  {
   "cell_type": "code",
   "execution_count": 43,
   "metadata": {},
   "outputs": [],
   "source": [
    "df = df_empData.merge(df_departmentData, left_on='department', right_on='dept_id')"
   ]
  },
  {
   "cell_type": "code",
   "execution_count": 44,
   "metadata": {},
   "outputs": [
    {
     "name": "stdout",
     "output_type": "stream",
     "text": [
      "   avg_monthly_hrs department  filed_complaint  last_evaluation  n_projects  \\\n",
      "0            156.0     D00-SS              1.0         0.474082           2   \n",
      "1            146.0     D00-SS              NaN         0.507349           2   \n",
      "2            281.0     D00-SS              NaN         0.907965           6   \n",
      "3            269.0     D00-SS              NaN         0.959077           4   \n",
      "4            256.0     D00-SS              NaN         0.897617           5   \n",
      "\n",
      "   recently_promoted  salary  satisfaction status  tenure  employee_id  age  \\\n",
      "0                NaN  medium      0.405101   Left     3.0       126150   24   \n",
      "1                NaN  medium      0.434845   Left     3.0       113707   23   \n",
      "2                NaN  medium      0.105749   Left     4.0       122394   50   \n",
      "3                NaN  medium      0.960757   Left     5.0       126860   25   \n",
      "4                NaN  medium      0.753731   Left     5.0       110655   24   \n",
      "\n",
      "   gender marital_status dept_id dept_name        dept_head  \n",
      "0  Female      Unmarried  D00-SS     Sales  Edward J Bayley  \n",
      "1  Female      Unmarried  D00-SS     Sales  Edward J Bayley  \n",
      "2  Female        Married  D00-SS     Sales  Edward J Bayley  \n",
      "3  Female      Unmarried  D00-SS     Sales  Edward J Bayley  \n",
      "4  Female      Unmarried  D00-SS     Sales  Edward J Bayley  \n"
     ]
    }
   ],
   "source": [
    "print (df.head())"
   ]
  },
  {
   "cell_type": "code",
   "execution_count": 45,
   "metadata": {},
   "outputs": [
    {
     "name": "stdout",
     "output_type": "stream",
     "text": [
      "(14145, 14)\n"
     ]
    }
   ],
   "source": [
    "print (df_empData.shape)"
   ]
  },
  {
   "cell_type": "code",
   "execution_count": null,
   "metadata": {},
   "outputs": [],
   "source": []
  }
 ],
 "metadata": {
  "kernelspec": {
   "display_name": "Python 3",
   "language": "python",
   "name": "python3"
  },
  "language_info": {
   "codemirror_mode": {
    "name": "ipython",
    "version": 3
   },
   "file_extension": ".py",
   "mimetype": "text/x-python",
   "name": "python",
   "nbconvert_exporter": "python",
   "pygments_lexer": "ipython3",
   "version": "3.7.3"
  }
 },
 "nbformat": 4,
 "nbformat_minor": 2
}
